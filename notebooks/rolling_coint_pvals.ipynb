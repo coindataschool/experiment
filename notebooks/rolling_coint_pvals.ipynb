{
 "cells": [
  {
   "cell_type": "code",
   "execution_count": 1,
   "id": "79a94add-dc14-498a-8710-8b9a78d9bdd9",
   "metadata": {},
   "outputs": [],
   "source": [
    "import warnings\n",
    "warnings.filterwarnings('ignore')\n",
    "\n",
    "import numpy as np\n",
    "import pandas as pd\n",
    "import datetime as dt\n",
    "import pandas_datareader.data as web\n",
    "import timeit\n",
    "\n",
    "pd.set_option('display.max_columns', 15)\n",
    "pd.set_option('display.max_rows', 50)\n",
    "pd.options.display.float_format = '{:,.4f}'.format"
   ]
  },
  {
   "cell_type": "code",
   "execution_count": 2,
   "id": "716badb2-5120-4df7-becd-7dd3b2711d34",
   "metadata": {},
   "outputs": [],
   "source": [
    "helper_dir = '../helper'\n",
    "\n",
    "%run {helper_dir}/utils.py\n",
    "%run {helper_dir}/rolling_funcs.py\n",
    "%run {helper_dir}/rolling_apply_funcs.py"
   ]
  },
  {
   "cell_type": "code",
   "execution_count": 3,
   "id": "283435d9-bde2-4835-8965-12a5c131150d",
   "metadata": {},
   "outputs": [],
   "source": [
    "from statsmodels.tsa.stattools import coint\n",
    "\n",
    "def coint_pval(s1: Union[np.ndarray, np.array, pd.Series], s2: Union[np.ndarray, np.array, pd.Series]): \n",
    "    _, pval, _ = coint(s1, s2)\n",
    "    return pval"
   ]
  },
  {
   "cell_type": "markdown",
   "id": "6025af82-010b-424b-9551-a2b56326d681",
   "metadata": {},
   "source": [
    "## Download data"
   ]
  },
  {
   "cell_type": "code",
   "execution_count": 4,
   "id": "198bb3c1-404c-4349-805c-751c8a22441c",
   "metadata": {},
   "outputs": [
    {
     "data": {
      "text/html": [
       "<div>\n",
       "<style scoped>\n",
       "    .dataframe tbody tr th:only-of-type {\n",
       "        vertical-align: middle;\n",
       "    }\n",
       "\n",
       "    .dataframe tbody tr th {\n",
       "        vertical-align: top;\n",
       "    }\n",
       "\n",
       "    .dataframe thead th {\n",
       "        text-align: right;\n",
       "    }\n",
       "</style>\n",
       "<table border=\"1\" class=\"dataframe\">\n",
       "  <thead>\n",
       "    <tr style=\"text-align: right;\">\n",
       "      <th>Symbols</th>\n",
       "      <th>ABG</th>\n",
       "      <th>ASTI</th>\n",
       "      <th>DQ</th>\n",
       "      <th>FSLR</th>\n",
       "      <th>SPY</th>\n",
       "    </tr>\n",
       "    <tr>\n",
       "      <th>Date</th>\n",
       "      <th></th>\n",
       "      <th></th>\n",
       "      <th></th>\n",
       "      <th></th>\n",
       "      <th></th>\n",
       "    </tr>\n",
       "  </thead>\n",
       "  <tbody>\n",
       "    <tr>\n",
       "      <th>2017-01-04</th>\n",
       "      <td>0.0240</td>\n",
       "      <td>-0.1515</td>\n",
       "      <td>-0.0045</td>\n",
       "      <td>0.0188</td>\n",
       "      <td>0.0059</td>\n",
       "    </tr>\n",
       "    <tr>\n",
       "      <th>2017-01-05</th>\n",
       "      <td>-0.0188</td>\n",
       "      <td>-0.1107</td>\n",
       "      <td>0.0233</td>\n",
       "      <td>-0.0085</td>\n",
       "      <td>-0.0008</td>\n",
       "    </tr>\n",
       "    <tr>\n",
       "      <th>2017-01-06</th>\n",
       "      <td>-0.0167</td>\n",
       "      <td>-0.1566</td>\n",
       "      <td>0.0124</td>\n",
       "      <td>-0.0165</td>\n",
       "      <td>0.0036</td>\n",
       "    </tr>\n",
       "    <tr>\n",
       "      <th>2017-01-09</th>\n",
       "      <td>0.0081</td>\n",
       "      <td>-0.1476</td>\n",
       "      <td>0.0068</td>\n",
       "      <td>0.0075</td>\n",
       "      <td>-0.0033</td>\n",
       "    </tr>\n",
       "    <tr>\n",
       "      <th>2017-01-10</th>\n",
       "      <td>0.0193</td>\n",
       "      <td>-0.0503</td>\n",
       "      <td>0.0005</td>\n",
       "      <td>-0.0054</td>\n",
       "      <td>0.0000</td>\n",
       "    </tr>\n",
       "  </tbody>\n",
       "</table>\n",
       "</div>"
      ],
      "text/plain": [
       "Symbols        ABG    ASTI      DQ    FSLR     SPY\n",
       "Date                                              \n",
       "2017-01-04  0.0240 -0.1515 -0.0045  0.0188  0.0059\n",
       "2017-01-05 -0.0188 -0.1107  0.0233 -0.0085 -0.0008\n",
       "2017-01-06 -0.0167 -0.1566  0.0124 -0.0165  0.0036\n",
       "2017-01-09  0.0081 -0.1476  0.0068  0.0075 -0.0033\n",
       "2017-01-10  0.0193 -0.0503  0.0005 -0.0054  0.0000"
      ]
     },
     "execution_count": 4,
     "metadata": {},
     "output_type": "execute_result"
    }
   ],
   "source": [
    "# download stock prices\n",
    "start = dt.date(2017, 1, 1)\n",
    "end = dt.date(2022, 1, 1)\n",
    "tickers = ['ABG', 'ASTI', 'DQ', 'FSLR', 'SPY']\n",
    "daily_rets = web.get_data_yahoo(tickers, start, end)['Adj Close'].pct_change().dropna()\n",
    "daily_rets.head()"
   ]
  },
  {
   "cell_type": "code",
   "execution_count": 5,
   "id": "48f24069-944e-499c-98f4-9c7f64b1066d",
   "metadata": {},
   "outputs": [
    {
     "data": {
      "text/html": [
       "<div>\n",
       "<style scoped>\n",
       "    .dataframe tbody tr th:only-of-type {\n",
       "        vertical-align: middle;\n",
       "    }\n",
       "\n",
       "    .dataframe tbody tr th {\n",
       "        vertical-align: top;\n",
       "    }\n",
       "\n",
       "    .dataframe thead th {\n",
       "        text-align: right;\n",
       "    }\n",
       "</style>\n",
       "<table border=\"1\" class=\"dataframe\">\n",
       "  <thead>\n",
       "    <tr style=\"text-align: right;\">\n",
       "      <th>Symbols</th>\n",
       "      <th>ABG</th>\n",
       "      <th>ASTI</th>\n",
       "      <th>DQ</th>\n",
       "      <th>FSLR</th>\n",
       "      <th>SPY</th>\n",
       "    </tr>\n",
       "    <tr>\n",
       "      <th>Date</th>\n",
       "      <th></th>\n",
       "      <th></th>\n",
       "      <th></th>\n",
       "      <th></th>\n",
       "      <th></th>\n",
       "    </tr>\n",
       "  </thead>\n",
       "  <tbody>\n",
       "    <tr>\n",
       "      <th>2021-12-27</th>\n",
       "      <td>0.0187</td>\n",
       "      <td>-0.1724</td>\n",
       "      <td>-0.0344</td>\n",
       "      <td>0.0056</td>\n",
       "      <td>0.0142</td>\n",
       "    </tr>\n",
       "    <tr>\n",
       "      <th>2021-12-28</th>\n",
       "      <td>0.0121</td>\n",
       "      <td>0.3333</td>\n",
       "      <td>0.0059</td>\n",
       "      <td>-0.0058</td>\n",
       "      <td>-0.0008</td>\n",
       "    </tr>\n",
       "    <tr>\n",
       "      <th>2021-12-29</th>\n",
       "      <td>-0.0031</td>\n",
       "      <td>-0.0312</td>\n",
       "      <td>0.0016</td>\n",
       "      <td>-0.0019</td>\n",
       "      <td>0.0013</td>\n",
       "    </tr>\n",
       "    <tr>\n",
       "      <th>2021-12-30</th>\n",
       "      <td>0.0064</td>\n",
       "      <td>-0.1290</td>\n",
       "      <td>0.0811</td>\n",
       "      <td>0.0099</td>\n",
       "      <td>-0.0028</td>\n",
       "    </tr>\n",
       "    <tr>\n",
       "      <th>2021-12-31</th>\n",
       "      <td>0.0155</td>\n",
       "      <td>-0.0741</td>\n",
       "      <td>-0.0151</td>\n",
       "      <td>-0.0100</td>\n",
       "      <td>-0.0025</td>\n",
       "    </tr>\n",
       "  </tbody>\n",
       "</table>\n",
       "</div>"
      ],
      "text/plain": [
       "Symbols        ABG    ASTI      DQ    FSLR     SPY\n",
       "Date                                              \n",
       "2021-12-27  0.0187 -0.1724 -0.0344  0.0056  0.0142\n",
       "2021-12-28  0.0121  0.3333  0.0059 -0.0058 -0.0008\n",
       "2021-12-29 -0.0031 -0.0312  0.0016 -0.0019  0.0013\n",
       "2021-12-30  0.0064 -0.1290  0.0811  0.0099 -0.0028\n",
       "2021-12-31  0.0155 -0.0741 -0.0151 -0.0100 -0.0025"
      ]
     },
     "execution_count": 5,
     "metadata": {},
     "output_type": "execute_result"
    }
   ],
   "source": [
    "daily_rets.tail()"
   ]
  },
  {
   "cell_type": "markdown",
   "id": "7fcf7ce7-eaeb-4cd4-b393-5c9f11181d80",
   "metadata": {},
   "source": [
    "## Input"
   ]
  },
  {
   "cell_type": "code",
   "execution_count": 6,
   "id": "64d62e31-83cb-47db-b84b-d98adee42ebc",
   "metadata": {},
   "outputs": [],
   "source": [
    "ndays = 30\n",
    "var1 = 'DQ'\n",
    "var2 = 'FSLR'"
   ]
  },
  {
   "cell_type": "markdown",
   "id": "c1469cc9-bd22-4cc0-98d5-d92226099b84",
   "metadata": {},
   "source": [
    "## Calculate p-value of Cointegration test"
   ]
  },
  {
   "cell_type": "code",
   "execution_count": 7,
   "id": "04d446a5-51fb-4b2c-9119-1ebbb0bc462f",
   "metadata": {},
   "outputs": [],
   "source": [
    "pvals_01 = roll(daily_rets, ndays).apply(lambda x: coint_pval(x[var1], x[var2]))\n",
    "pvals_02 = pd.concat([pd.Series(coint_pval(subdf[var1], subdf[var2]), index=[subdf.index[-1]]) for subdf in groll(daily_rets, ndays)])\n",
    "pvals_03 = rolling_apply_pd(daily_rets[var1], daily_rets[var2], ndays, coint_pval)\n",
    "pvals_04 = rolling_apply_np(daily_rets[var1], daily_rets[var2], ndays, coint_pval)"
   ]
  },
  {
   "cell_type": "code",
   "execution_count": 8,
   "id": "f5d32022-b15b-4d0a-8c44-9f26798db6cb",
   "metadata": {},
   "outputs": [
    {
     "name": "stdout",
     "output_type": "stream",
     "text": [
      "Date\n",
      "2017-02-15   0.0000\n",
      "2017-02-16   0.0000\n",
      "2017-02-17   0.0000\n",
      "2017-02-21   0.0000\n",
      "2017-02-22   0.0000\n",
      "dtype: float64 \n",
      "\n",
      "\n",
      "2017-02-15   0.0000\n",
      "2017-02-16   0.0000\n",
      "2017-02-17   0.0000\n",
      "2017-02-21   0.0000\n",
      "2017-02-22   0.0000\n",
      "dtype: float64 \n",
      "\n",
      "\n",
      "Date\n",
      "2017-02-15   0.0000\n",
      "2017-02-16   0.0000\n",
      "2017-02-17   0.0000\n",
      "2017-02-21   0.0000\n",
      "2017-02-22   0.0000\n",
      "dtype: float64 \n",
      "\n",
      "\n",
      "Date\n",
      "2017-02-15   0.0000\n",
      "2017-02-16   0.0000\n",
      "2017-02-17   0.0000\n",
      "2017-02-21   0.0000\n",
      "2017-02-22   0.0000\n",
      "dtype: float64 \n",
      "\n",
      "\n"
     ]
    }
   ],
   "source": [
    "print(pvals_01.head(), '\\n\\n')\n",
    "print(pvals_02.head(), '\\n\\n')\n",
    "print(pvals_03.head(), '\\n\\n')\n",
    "print(pvals_04.dropna().head(), '\\n\\n')"
   ]
  },
  {
   "cell_type": "code",
   "execution_count": 9,
   "id": "2ebd3f62-9c06-46d4-a199-53dde470d00b",
   "metadata": {},
   "outputs": [
    {
     "name": "stdout",
     "output_type": "stream",
     "text": [
      "Date\n",
      "2021-12-27   0.0038\n",
      "2021-12-28   0.0008\n",
      "2021-12-29   0.0009\n",
      "2021-12-30   0.0168\n",
      "2021-12-31   0.0181\n",
      "dtype: float64 \n",
      "\n",
      "\n",
      "2021-12-27   0.0038\n",
      "2021-12-28   0.0008\n",
      "2021-12-29   0.0009\n",
      "2021-12-30   0.0168\n",
      "2021-12-31   0.0181\n",
      "dtype: float64 \n",
      "\n",
      "\n",
      "Date\n",
      "2021-12-27   0.0038\n",
      "2021-12-28   0.0008\n",
      "2021-12-29   0.0009\n",
      "2021-12-30   0.0168\n",
      "2021-12-31   0.0181\n",
      "dtype: float64 \n",
      "\n",
      "\n",
      "Date\n",
      "2021-12-27   0.0038\n",
      "2021-12-28   0.0008\n",
      "2021-12-29   0.0009\n",
      "2021-12-30   0.0168\n",
      "2021-12-31   0.0181\n",
      "dtype: float64 \n",
      "\n",
      "\n"
     ]
    }
   ],
   "source": [
    "print(pvals_01.tail(), '\\n\\n')\n",
    "print(pvals_02.tail(), '\\n\\n')\n",
    "print(pvals_03.tail(), '\\n\\n')\n",
    "print(pvals_04.tail(), '\\n\\n')"
   ]
  },
  {
   "cell_type": "code",
   "execution_count": 10,
   "id": "9d110998-439e-4a57-baf3-d88488db6e15",
   "metadata": {},
   "outputs": [
    {
     "name": "stdout",
     "output_type": "stream",
     "text": [
      "True\n",
      "True\n",
      "True\n"
     ]
    }
   ],
   "source": [
    "print(equal(pvals_01, pvals_02))\n",
    "print(equal(pvals_02, pvals_03))\n",
    "print(equal(pvals_02, pvals_04))"
   ]
  },
  {
   "cell_type": "code",
   "execution_count": 11,
   "id": "1b3a0838-8b49-4485-95c4-baf3a0ee3284",
   "metadata": {},
   "outputs": [
    {
     "name": "stdout",
     "output_type": "stream",
     "text": [
      "6.94 s ± 6.48 ms per loop (mean ± std. dev. of 7 runs, 1 loop each)\n"
     ]
    }
   ],
   "source": [
    "%%timeit\n",
    "pvals_01 = roll(daily_rets, ndays).apply(lambda x: coint_pval(x[var1], x[var2]))"
   ]
  },
  {
   "cell_type": "code",
   "execution_count": 12,
   "id": "1cc5ef06-3e3e-4502-84b2-7860020422a6",
   "metadata": {},
   "outputs": [
    {
     "name": "stdout",
     "output_type": "stream",
     "text": [
      "7.4 s ± 51.2 ms per loop (mean ± std. dev. of 7 runs, 1 loop each)\n"
     ]
    }
   ],
   "source": [
    "%%timeit\n",
    "pvals_02 = pd.concat([pd.Series(coint_pval(subdf[var1], subdf[var2]), index=[subdf.index[-1]]) for subdf in groll(daily_rets, ndays)])"
   ]
  },
  {
   "cell_type": "code",
   "execution_count": 13,
   "id": "f4d3db08-f0e4-476b-af9a-7318674237b2",
   "metadata": {},
   "outputs": [
    {
     "name": "stdout",
     "output_type": "stream",
     "text": [
      "7.06 s ± 60 ms per loop (mean ± std. dev. of 7 runs, 1 loop each)\n"
     ]
    }
   ],
   "source": [
    "%%timeit\n",
    "pvals_03 = rolling_apply_pd(daily_rets[var1], daily_rets[var2], ndays, coint_pval)"
   ]
  },
  {
   "cell_type": "code",
   "execution_count": 14,
   "id": "025440b8-3be6-4554-bc60-a1d7e002c72f",
   "metadata": {},
   "outputs": [
    {
     "name": "stdout",
     "output_type": "stream",
     "text": [
      "6.77 s ± 42.3 ms per loop (mean ± std. dev. of 7 runs, 1 loop each)\n"
     ]
    }
   ],
   "source": [
    "%%timeit\n",
    "pvals_04 = rolling_apply_np(daily_rets[var1], daily_rets[var2], ndays, coint_pval)"
   ]
  },
  {
   "cell_type": "markdown",
   "id": "e41eb613-9519-4d47-9fc5-4125e9366bdc",
   "metadata": {},
   "source": [
    "### All methods are pretty slow, and `rolling_apply_np()` is supposed to be fast. The bottleneck: statsmodels `coint()` is slow. To speed up, we'd need to write a faster version of `coint()`."
   ]
  },
  {
   "cell_type": "code",
   "execution_count": null,
   "id": "6a474da4-4e3c-4bfe-9960-ad2e1981e5e5",
   "metadata": {},
   "outputs": [],
   "source": []
  }
 ],
 "metadata": {
  "kernelspec": {
   "display_name": "Python 3 (ipykernel)",
   "language": "python",
   "name": "python3"
  },
  "language_info": {
   "codemirror_mode": {
    "name": "ipython",
    "version": 3
   },
   "file_extension": ".py",
   "mimetype": "text/x-python",
   "name": "python",
   "nbconvert_exporter": "python",
   "pygments_lexer": "ipython3",
   "version": "3.8.13"
  }
 },
 "nbformat": 4,
 "nbformat_minor": 5
}
