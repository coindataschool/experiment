{
 "cells": [
  {
   "cell_type": "code",
   "execution_count": 1,
   "id": "f7a69442-1ae9-471e-8d80-7d967cb8d5cb",
   "metadata": {},
   "outputs": [],
   "source": [
    "import warnings\n",
    "warnings.filterwarnings('ignore')\n",
    "\n",
    "import numpy as np\n",
    "import pandas as pd\n",
    "import datetime as dt\n",
    "import pandas_datareader.data as web\n",
    "import timeit\n",
    "\n",
    "pd.set_option('display.max_columns', 15)\n",
    "pd.set_option('display.max_rows', 50)\n",
    "pd.options.display.float_format = '{:,.4f}'.format"
   ]
  },
  {
   "cell_type": "code",
   "execution_count": 2,
   "id": "827f8fcf-88ae-4f9a-9b43-9fa5ae35cda7",
   "metadata": {},
   "outputs": [],
   "source": [
    "helper_dir = '../helper'\n",
    "\n",
    "%run {helper_dir}/utils.py\n",
    "%run {helper_dir}/rolling_funcs.py"
   ]
  },
  {
   "cell_type": "markdown",
   "id": "40c33f98-b2cb-4d96-9ffd-303bc071b475",
   "metadata": {},
   "source": [
    "## Make some data"
   ]
  },
  {
   "cell_type": "code",
   "execution_count": 3,
   "id": "684e458f-aa89-4fb3-9a78-5b6fad559386",
   "metadata": {},
   "outputs": [],
   "source": [
    "num_sec_dfs, num_periods = 2, 480\n",
    "\n",
    "dates = pd.date_range('1995-12-31', periods=num_periods, freq='M', name='Date')\n",
    "stocks = pd.DataFrame(data=np.random.rand(num_periods, num_sec_dfs), index=dates,\n",
    "                      columns=['s{:04d}'.format(i) for i in range(num_sec_dfs)]).pct_change().dropna()\n",
    "market = pd.DataFrame(data=np.random.rand(num_periods), index=dates, \n",
    "                      columns= ['Market']).pct_change().dropna()\n",
    "rets = stocks.join(market)"
   ]
  },
  {
   "cell_type": "code",
   "execution_count": 4,
   "id": "5f8cdb33-23b1-4a79-b596-e5496c8907ac",
   "metadata": {},
   "outputs": [
    {
     "data": {
      "text/html": [
       "<div>\n",
       "<style scoped>\n",
       "    .dataframe tbody tr th:only-of-type {\n",
       "        vertical-align: middle;\n",
       "    }\n",
       "\n",
       "    .dataframe tbody tr th {\n",
       "        vertical-align: top;\n",
       "    }\n",
       "\n",
       "    .dataframe thead th {\n",
       "        text-align: right;\n",
       "    }\n",
       "</style>\n",
       "<table border=\"1\" class=\"dataframe\">\n",
       "  <thead>\n",
       "    <tr style=\"text-align: right;\">\n",
       "      <th></th>\n",
       "      <th>s0000</th>\n",
       "      <th>s0001</th>\n",
       "      <th>Market</th>\n",
       "    </tr>\n",
       "    <tr>\n",
       "      <th>Date</th>\n",
       "      <th></th>\n",
       "      <th></th>\n",
       "      <th></th>\n",
       "    </tr>\n",
       "  </thead>\n",
       "  <tbody>\n",
       "    <tr>\n",
       "      <th>1996-01-31</th>\n",
       "      <td>-0.6248</td>\n",
       "      <td>0.1202</td>\n",
       "      <td>-0.9094</td>\n",
       "    </tr>\n",
       "    <tr>\n",
       "      <th>1996-02-29</th>\n",
       "      <td>1.2975</td>\n",
       "      <td>-0.1266</td>\n",
       "      <td>17.9019</td>\n",
       "    </tr>\n",
       "    <tr>\n",
       "      <th>1996-03-31</th>\n",
       "      <td>0.1899</td>\n",
       "      <td>0.4531</td>\n",
       "      <td>-0.0601</td>\n",
       "    </tr>\n",
       "    <tr>\n",
       "      <th>1996-04-30</th>\n",
       "      <td>0.7448</td>\n",
       "      <td>-0.0165</td>\n",
       "      <td>-0.6930</td>\n",
       "    </tr>\n",
       "    <tr>\n",
       "      <th>1996-05-31</th>\n",
       "      <td>-0.9324</td>\n",
       "      <td>-0.3584</td>\n",
       "      <td>-0.0100</td>\n",
       "    </tr>\n",
       "  </tbody>\n",
       "</table>\n",
       "</div>"
      ],
      "text/plain": [
       "             s0000   s0001  Market\n",
       "Date                              \n",
       "1996-01-31 -0.6248  0.1202 -0.9094\n",
       "1996-02-29  1.2975 -0.1266 17.9019\n",
       "1996-03-31  0.1899  0.4531 -0.0601\n",
       "1996-04-30  0.7448 -0.0165 -0.6930\n",
       "1996-05-31 -0.9324 -0.3584 -0.0100"
      ]
     },
     "execution_count": 4,
     "metadata": {},
     "output_type": "execute_result"
    }
   ],
   "source": [
    "rets.head()"
   ]
  },
  {
   "cell_type": "code",
   "execution_count": 5,
   "id": "9aba64d4-7a32-4760-97d0-e3db531aa979",
   "metadata": {},
   "outputs": [
    {
     "data": {
      "text/html": [
       "<div>\n",
       "<style scoped>\n",
       "    .dataframe tbody tr th:only-of-type {\n",
       "        vertical-align: middle;\n",
       "    }\n",
       "\n",
       "    .dataframe tbody tr th {\n",
       "        vertical-align: top;\n",
       "    }\n",
       "\n",
       "    .dataframe thead th {\n",
       "        text-align: right;\n",
       "    }\n",
       "</style>\n",
       "<table border=\"1\" class=\"dataframe\">\n",
       "  <thead>\n",
       "    <tr style=\"text-align: right;\">\n",
       "      <th></th>\n",
       "      <th>s0000</th>\n",
       "      <th>s0001</th>\n",
       "      <th>Market</th>\n",
       "    </tr>\n",
       "    <tr>\n",
       "      <th>Date</th>\n",
       "      <th></th>\n",
       "      <th></th>\n",
       "      <th></th>\n",
       "    </tr>\n",
       "  </thead>\n",
       "  <tbody>\n",
       "    <tr>\n",
       "      <th>2035-07-31</th>\n",
       "      <td>-0.1576</td>\n",
       "      <td>-0.6148</td>\n",
       "      <td>4.0539</td>\n",
       "    </tr>\n",
       "    <tr>\n",
       "      <th>2035-08-31</th>\n",
       "      <td>0.4244</td>\n",
       "      <td>1.7399</td>\n",
       "      <td>0.5686</td>\n",
       "    </tr>\n",
       "    <tr>\n",
       "      <th>2035-09-30</th>\n",
       "      <td>-0.5073</td>\n",
       "      <td>0.1153</td>\n",
       "      <td>-0.4440</td>\n",
       "    </tr>\n",
       "    <tr>\n",
       "      <th>2035-10-31</th>\n",
       "      <td>0.0616</td>\n",
       "      <td>-0.7521</td>\n",
       "      <td>0.8185</td>\n",
       "    </tr>\n",
       "    <tr>\n",
       "      <th>2035-11-30</th>\n",
       "      <td>-0.2030</td>\n",
       "      <td>0.2022</td>\n",
       "      <td>-0.1706</td>\n",
       "    </tr>\n",
       "  </tbody>\n",
       "</table>\n",
       "</div>"
      ],
      "text/plain": [
       "             s0000   s0001  Market\n",
       "Date                              \n",
       "2035-07-31 -0.1576 -0.6148  4.0539\n",
       "2035-08-31  0.4244  1.7399  0.5686\n",
       "2035-09-30 -0.5073  0.1153 -0.4440\n",
       "2035-10-31  0.0616 -0.7521  0.8185\n",
       "2035-11-30 -0.2030  0.2022 -0.1706"
      ]
     },
     "execution_count": 5,
     "metadata": {},
     "output_type": "execute_result"
    }
   ],
   "source": [
    "rets.tail()"
   ]
  },
  {
   "cell_type": "markdown",
   "id": "d1685fce-0f7c-4277-a558-19a21ec44199",
   "metadata": {},
   "source": [
    "## Input"
   ]
  },
  {
   "cell_type": "code",
   "execution_count": 6,
   "id": "a003fd2c-a374-4f9c-839c-8b45df5d0c0a",
   "metadata": {},
   "outputs": [],
   "source": [
    "ndays = 120"
   ]
  },
  {
   "cell_type": "markdown",
   "id": "e29736be-7ce7-4068-8a71-683b290014cd",
   "metadata": {},
   "source": [
    "## Check our `roll()` and `groll()` give the same results as `df.rolling().mean()`"
   ]
  },
  {
   "cell_type": "code",
   "execution_count": 7,
   "id": "984116ae-feba-4eb9-92af-bdc9214f7666",
   "metadata": {},
   "outputs": [],
   "source": [
    "means_true = rets.rolling(ndays).mean()\n",
    "means_01 = roll(rets, ndays).mean()\n",
    "means_02 = pd.concat([pd.DataFrame([subdf.mean()], index=[subdf.index[-1]]) for subdf in groll(rets, ndays)])"
   ]
  },
  {
   "cell_type": "code",
   "execution_count": 8,
   "id": "270d3862-2fe3-4e83-8032-5e43d7e54770",
   "metadata": {},
   "outputs": [
    {
     "name": "stdout",
     "output_type": "stream",
     "text": [
      "            s0000  s0001   Market\n",
      "Date                             \n",
      "2005-12-31 3.3101 2.8087 119.6283\n",
      "2006-01-31 3.3098 2.8114 119.6446\n",
      "2006-02-28 3.3199 2.8121 119.4887\n",
      "2006-03-31 3.3162 2.8051 119.4829\n",
      "2006-04-30 3.3143 2.7972 119.6159 \n",
      "\n",
      "\n",
      "            s0000  s0001   Market\n",
      "Date                             \n",
      "2005-12-31 3.3101 2.8087 119.6283\n",
      "2006-01-31 3.3098 2.8114 119.6446\n",
      "2006-02-28 3.3199 2.8121 119.4887\n",
      "2006-03-31 3.3162 2.8051 119.4829\n",
      "2006-04-30 3.3143 2.7972 119.6159 \n",
      "\n",
      "\n",
      "            s0000  s0001   Market\n",
      "2005-12-31 3.3101 2.8087 119.6283\n",
      "2006-01-31 3.3098 2.8114 119.6446\n",
      "2006-02-28 3.3199 2.8121 119.4887\n",
      "2006-03-31 3.3162 2.8051 119.4829\n",
      "2006-04-30 3.3143 2.7972 119.6159 \n",
      "\n",
      "\n"
     ]
    }
   ],
   "source": [
    "print(means_true.dropna().head(), '\\n\\n')\n",
    "print(means_01.head(), '\\n\\n')\n",
    "print(means_02.head(), '\\n\\n')"
   ]
  },
  {
   "cell_type": "code",
   "execution_count": 9,
   "id": "5c796605-ef1c-4b43-b980-9a80c9a2e5b2",
   "metadata": {},
   "outputs": [
    {
     "name": "stdout",
     "output_type": "stream",
     "text": [
      "            s0000  s0001  Market\n",
      "Date                            \n",
      "2035-07-31 4.1927 2.7028  3.6594\n",
      "2035-08-31 4.1883 2.7139  3.6628\n",
      "2035-09-30 4.1854 2.7226  3.6649\n",
      "2035-10-31 4.1882 2.6956  3.6698\n",
      "2035-11-30 4.1838 2.6873  3.6620 \n",
      "\n",
      "\n",
      "            s0000  s0001  Market\n",
      "Date                            \n",
      "2035-07-31 4.1927 2.7028  3.6594\n",
      "2035-08-31 4.1883 2.7139  3.6628\n",
      "2035-09-30 4.1854 2.7226  3.6649\n",
      "2035-10-31 4.1882 2.6956  3.6698\n",
      "2035-11-30 4.1838 2.6873  3.6620 \n",
      "\n",
      "\n",
      "            s0000  s0001  Market\n",
      "2035-07-31 4.1927 2.7028  3.6594\n",
      "2035-08-31 4.1883 2.7139  3.6628\n",
      "2035-09-30 4.1854 2.7226  3.6649\n",
      "2035-10-31 4.1882 2.6956  3.6698\n",
      "2035-11-30 4.1838 2.6873  3.6620 \n",
      "\n",
      "\n"
     ]
    }
   ],
   "source": [
    "print(means_true.tail(), '\\n\\n')\n",
    "print(means_01.tail(), '\\n\\n')\n",
    "print(means_02.tail(), '\\n\\n')"
   ]
  },
  {
   "cell_type": "code",
   "execution_count": 10,
   "id": "3912039d-086e-44ba-b821-f8652855f174",
   "metadata": {},
   "outputs": [
    {
     "name": "stdout",
     "output_type": "stream",
     "text": [
      "True\n",
      "True\n"
     ]
    }
   ],
   "source": [
    "print(equal(means_true, means_01))\n",
    "print(equal(means_true, means_02))"
   ]
  },
  {
   "cell_type": "markdown",
   "id": "aea729fc-98de-423a-aced-cc9fbe423609",
   "metadata": {},
   "source": [
    "## Check our `roll()` and `groll()` give the same results as `df.rolling().std(ddof=1)`"
   ]
  },
  {
   "cell_type": "code",
   "execution_count": 11,
   "id": "998a9995-82a3-4e17-8ae4-c840b4ae7d06",
   "metadata": {},
   "outputs": [],
   "source": [
    "sds_true = rets.rolling(ndays).std(ddof=1)\n",
    "sds_01 = roll(rets, ndays).std(ddof=1)\n",
    "sds_02 = pd.concat([pd.DataFrame([subdf.std(ddof=1)], index=[subdf.index[-1]]) for subdf in groll(rets, ndays)])"
   ]
  },
  {
   "cell_type": "code",
   "execution_count": 12,
   "id": "a76457f6-1685-415d-94a3-7785cec6d31b",
   "metadata": {},
   "outputs": [
    {
     "name": "stdout",
     "output_type": "stream",
     "text": [
      "             s0000   s0001     Market\n",
      "Date                                 \n",
      "2005-12-31 18.0846 12.4223 1,289.6654\n",
      "2006-01-31 18.0846 12.4217 1,289.6639\n",
      "2006-02-28 18.0838 12.4216 1,289.6774\n",
      "2006-03-31 18.0845 12.4231 1,289.6780\n",
      "2006-04-30 18.0848 12.4253 1,289.6663 \n",
      "\n",
      "\n",
      "             s0000   s0001     Market\n",
      "Date                                 \n",
      "2005-12-31 18.0846 12.4223 1,289.6654\n",
      "2006-01-31 18.0846 12.4217 1,289.6639\n",
      "2006-02-28 18.0838 12.4216 1,289.6774\n",
      "2006-03-31 18.0845 12.4231 1,289.6780\n",
      "2006-04-30 18.0848 12.4253 1,289.6663 \n",
      "\n",
      "\n",
      "             s0000   s0001     Market\n",
      "2005-12-31 18.0846 12.4223 1,289.6654\n",
      "2006-01-31 18.0846 12.4217 1,289.6639\n",
      "2006-02-28 18.0838 12.4216 1,289.6774\n",
      "2006-03-31 18.0845 12.4231 1,289.6780\n",
      "2006-04-30 18.0848 12.4253 1,289.6663 \n",
      "\n",
      "\n"
     ]
    }
   ],
   "source": [
    "print(sds_true.dropna().head(), '\\n\\n')\n",
    "print(sds_01.head(), '\\n\\n')\n",
    "print(sds_02.head(), '\\n\\n')"
   ]
  },
  {
   "cell_type": "code",
   "execution_count": 13,
   "id": "14e7b034-9cc5-4f2e-bb8d-b6220f842736",
   "metadata": {},
   "outputs": [
    {
     "name": "stdout",
     "output_type": "stream",
     "text": [
      "             s0000   s0001  Market\n",
      "Date                              \n",
      "2035-07-31 24.7435 13.4642 20.5394\n",
      "2035-08-31 24.7442 13.4628 20.5388\n",
      "2035-09-30 24.7447 13.4608 20.5384\n",
      "2035-10-31 24.7442 13.4645 20.5377\n",
      "2035-11-30 24.7450 13.4658 20.5389 \n",
      "\n",
      "\n",
      "             s0000   s0001  Market\n",
      "Date                              \n",
      "2035-07-31 24.7435 13.4642 20.5394\n",
      "2035-08-31 24.7442 13.4628 20.5388\n",
      "2035-09-30 24.7447 13.4608 20.5384\n",
      "2035-10-31 24.7442 13.4645 20.5377\n",
      "2035-11-30 24.7450 13.4658 20.5389 \n",
      "\n",
      "\n",
      "             s0000   s0001  Market\n",
      "2035-07-31 24.7435 13.4642 20.5394\n",
      "2035-08-31 24.7442 13.4628 20.5388\n",
      "2035-09-30 24.7447 13.4608 20.5384\n",
      "2035-10-31 24.7442 13.4645 20.5377\n",
      "2035-11-30 24.7450 13.4658 20.5389 \n",
      "\n",
      "\n"
     ]
    }
   ],
   "source": [
    "print(sds_true.tail(), '\\n\\n')\n",
    "print(sds_01.tail(), '\\n\\n')\n",
    "print(sds_02.tail(), '\\n\\n')"
   ]
  },
  {
   "cell_type": "code",
   "execution_count": 14,
   "id": "82e46018-e083-41c2-a617-f98632bb356f",
   "metadata": {},
   "outputs": [
    {
     "name": "stdout",
     "output_type": "stream",
     "text": [
      "True\n",
      "True\n"
     ]
    }
   ],
   "source": [
    "print(equal(sds_true, sds_01))\n",
    "print(equal(sds_true, sds_02))"
   ]
  },
  {
   "cell_type": "code",
   "execution_count": null,
   "id": "efaf2d0b-a110-4226-972d-1292729b084d",
   "metadata": {},
   "outputs": [],
   "source": []
  }
 ],
 "metadata": {
  "kernelspec": {
   "display_name": "Python 3 (ipykernel)",
   "language": "python",
   "name": "python3"
  },
  "language_info": {
   "codemirror_mode": {
    "name": "ipython",
    "version": 3
   },
   "file_extension": ".py",
   "mimetype": "text/x-python",
   "name": "python",
   "nbconvert_exporter": "python",
   "pygments_lexer": "ipython3",
   "version": "3.8.13"
  }
 },
 "nbformat": 4,
 "nbformat_minor": 5
}
